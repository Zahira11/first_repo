import pandas as pd
import numpy as np


vssales_data  =  pd.read_csv('jupyter/vgsales.csv')
np.random.seed(0)
vssales_data.head()
# look at a few rows of the vssales_data file. I can see a handful of missing data already!
vssales_data.sample(10)
# look at a few rows of the nfl_data file. I can see a handful of missing data already!
missing_values_count = vssales_data.isnull().sum()
# look at the # of missing points in the first ten columns
missing_values_count[0:11]
# how many total missing values do we have?
total_cells = np.product(vssales_data.shape)
total_missing = missing_values_count.sum()
# percent of data that is missing
(total_missing/total_cells) * 100
# remove all the rows that contain a missing value
vssales_data.dropna()
# just how much data did we lose?
print("Columns in original dataset: %d \n" % vssales_data.shape[1])
print("Columns with na's dropped: %d" % columns_with_na_dropped.shape[1])
# get a small subset of the Vssales dataset
subset_vssales_data = vssales_data.loc[:, 'Rank':'Global_Sales'].head()
subset_vssales_data
# replace all vssales's with 0
subset_vssales_data.fillna(0)
# replace all Vssales's the value that comes directly after it in the same column, 
# then replace all the remaining na's with 0
subset_vssales_data.fillna(method='bfill', axis=0).fillna(0)
